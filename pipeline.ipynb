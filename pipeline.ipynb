{
 "cells": [
  {
   "cell_type": "markdown",
   "id": "619911fb",
   "metadata": {},
   "source": [
    "Imports"
   ]
  },
  {
   "cell_type": "code",
   "execution_count": 5,
   "id": "9990595c",
   "metadata": {},
   "outputs": [],
   "source": [
    "from sklearn.preprocessing import StandardScaler, MinMaxScaler, LabelEncoder\n",
    "from sklearn.model_selection import train_test_split\n",
    "import pandas as pd\n",
    "import numpy as np\n",
    "import helpers.evaluate\n",
    "from helpers.model_list import model_map\n",
    "import matplotlib.pyplot as plt\n",
    "import seaborn as sns\n",
    "from pandas.plotting import scatter_matrix\n",
    "import warnings\n",
    "from sklearn.exceptions import FitFailedWarning\n",
    "\n",
    "#Import models\n",
    "models = {name: model_class() for name, model_class in model_map.items()}"
   ]
  },
  {
   "cell_type": "markdown",
   "id": "2c5f9cd1",
   "metadata": {},
   "source": [
    "Load in Data"
   ]
  },
  {
   "cell_type": "code",
   "execution_count": 2,
   "id": "9e237b72",
   "metadata": {},
   "outputs": [
    {
     "data": {
      "text/html": [
       "<div>\n",
       "<style scoped>\n",
       "    .dataframe tbody tr th:only-of-type {\n",
       "        vertical-align: middle;\n",
       "    }\n",
       "\n",
       "    .dataframe tbody tr th {\n",
       "        vertical-align: top;\n",
       "    }\n",
       "\n",
       "    .dataframe thead th {\n",
       "        text-align: right;\n",
       "    }\n",
       "</style>\n",
       "<table border=\"1\" class=\"dataframe\">\n",
       "  <thead>\n",
       "    <tr style=\"text-align: right;\">\n",
       "      <th></th>\n",
       "      <th>Diabetes_binary</th>\n",
       "      <th>HighBP</th>\n",
       "      <th>HighChol</th>\n",
       "      <th>CholCheck</th>\n",
       "      <th>BMI</th>\n",
       "      <th>Smoker</th>\n",
       "      <th>Stroke</th>\n",
       "      <th>HeartDiseaseorAttack</th>\n",
       "      <th>PhysActivity</th>\n",
       "      <th>Fruits</th>\n",
       "      <th>...</th>\n",
       "      <th>AnyHealthcare</th>\n",
       "      <th>NoDocbcCost</th>\n",
       "      <th>GenHlth</th>\n",
       "      <th>MentHlth</th>\n",
       "      <th>PhysHlth</th>\n",
       "      <th>DiffWalk</th>\n",
       "      <th>Sex</th>\n",
       "      <th>Age</th>\n",
       "      <th>Education</th>\n",
       "      <th>Income</th>\n",
       "    </tr>\n",
       "  </thead>\n",
       "  <tbody>\n",
       "    <tr>\n",
       "      <th>0</th>\n",
       "      <td>0.0</td>\n",
       "      <td>1.0</td>\n",
       "      <td>0.0</td>\n",
       "      <td>1.0</td>\n",
       "      <td>26.0</td>\n",
       "      <td>0.0</td>\n",
       "      <td>0.0</td>\n",
       "      <td>0.0</td>\n",
       "      <td>1.0</td>\n",
       "      <td>0.0</td>\n",
       "      <td>...</td>\n",
       "      <td>1.0</td>\n",
       "      <td>0.0</td>\n",
       "      <td>3.0</td>\n",
       "      <td>5.0</td>\n",
       "      <td>30.0</td>\n",
       "      <td>0.0</td>\n",
       "      <td>1.0</td>\n",
       "      <td>4.0</td>\n",
       "      <td>6.0</td>\n",
       "      <td>8.0</td>\n",
       "    </tr>\n",
       "    <tr>\n",
       "      <th>1</th>\n",
       "      <td>0.0</td>\n",
       "      <td>1.0</td>\n",
       "      <td>1.0</td>\n",
       "      <td>1.0</td>\n",
       "      <td>26.0</td>\n",
       "      <td>1.0</td>\n",
       "      <td>1.0</td>\n",
       "      <td>0.0</td>\n",
       "      <td>0.0</td>\n",
       "      <td>1.0</td>\n",
       "      <td>...</td>\n",
       "      <td>1.0</td>\n",
       "      <td>0.0</td>\n",
       "      <td>3.0</td>\n",
       "      <td>0.0</td>\n",
       "      <td>0.0</td>\n",
       "      <td>0.0</td>\n",
       "      <td>1.0</td>\n",
       "      <td>12.0</td>\n",
       "      <td>6.0</td>\n",
       "      <td>8.0</td>\n",
       "    </tr>\n",
       "    <tr>\n",
       "      <th>2</th>\n",
       "      <td>0.0</td>\n",
       "      <td>0.0</td>\n",
       "      <td>0.0</td>\n",
       "      <td>1.0</td>\n",
       "      <td>26.0</td>\n",
       "      <td>0.0</td>\n",
       "      <td>0.0</td>\n",
       "      <td>0.0</td>\n",
       "      <td>1.0</td>\n",
       "      <td>1.0</td>\n",
       "      <td>...</td>\n",
       "      <td>1.0</td>\n",
       "      <td>0.0</td>\n",
       "      <td>1.0</td>\n",
       "      <td>0.0</td>\n",
       "      <td>10.0</td>\n",
       "      <td>0.0</td>\n",
       "      <td>1.0</td>\n",
       "      <td>13.0</td>\n",
       "      <td>6.0</td>\n",
       "      <td>8.0</td>\n",
       "    </tr>\n",
       "    <tr>\n",
       "      <th>3</th>\n",
       "      <td>0.0</td>\n",
       "      <td>1.0</td>\n",
       "      <td>1.0</td>\n",
       "      <td>1.0</td>\n",
       "      <td>28.0</td>\n",
       "      <td>1.0</td>\n",
       "      <td>0.0</td>\n",
       "      <td>0.0</td>\n",
       "      <td>1.0</td>\n",
       "      <td>1.0</td>\n",
       "      <td>...</td>\n",
       "      <td>1.0</td>\n",
       "      <td>0.0</td>\n",
       "      <td>3.0</td>\n",
       "      <td>0.0</td>\n",
       "      <td>3.0</td>\n",
       "      <td>0.0</td>\n",
       "      <td>1.0</td>\n",
       "      <td>11.0</td>\n",
       "      <td>6.0</td>\n",
       "      <td>8.0</td>\n",
       "    </tr>\n",
       "    <tr>\n",
       "      <th>4</th>\n",
       "      <td>0.0</td>\n",
       "      <td>0.0</td>\n",
       "      <td>0.0</td>\n",
       "      <td>1.0</td>\n",
       "      <td>29.0</td>\n",
       "      <td>1.0</td>\n",
       "      <td>0.0</td>\n",
       "      <td>0.0</td>\n",
       "      <td>1.0</td>\n",
       "      <td>1.0</td>\n",
       "      <td>...</td>\n",
       "      <td>1.0</td>\n",
       "      <td>0.0</td>\n",
       "      <td>2.0</td>\n",
       "      <td>0.0</td>\n",
       "      <td>0.0</td>\n",
       "      <td>0.0</td>\n",
       "      <td>0.0</td>\n",
       "      <td>8.0</td>\n",
       "      <td>5.0</td>\n",
       "      <td>8.0</td>\n",
       "    </tr>\n",
       "  </tbody>\n",
       "</table>\n",
       "<p>5 rows × 22 columns</p>\n",
       "</div>"
      ],
      "text/plain": [
       "   Diabetes_binary  HighBP  HighChol  CholCheck   BMI  Smoker  Stroke  \\\n",
       "0              0.0     1.0       0.0        1.0  26.0     0.0     0.0   \n",
       "1              0.0     1.0       1.0        1.0  26.0     1.0     1.0   \n",
       "2              0.0     0.0       0.0        1.0  26.0     0.0     0.0   \n",
       "3              0.0     1.0       1.0        1.0  28.0     1.0     0.0   \n",
       "4              0.0     0.0       0.0        1.0  29.0     1.0     0.0   \n",
       "\n",
       "   HeartDiseaseorAttack  PhysActivity  Fruits  ...  AnyHealthcare  \\\n",
       "0                   0.0           1.0     0.0  ...            1.0   \n",
       "1                   0.0           0.0     1.0  ...            1.0   \n",
       "2                   0.0           1.0     1.0  ...            1.0   \n",
       "3                   0.0           1.0     1.0  ...            1.0   \n",
       "4                   0.0           1.0     1.0  ...            1.0   \n",
       "\n",
       "   NoDocbcCost  GenHlth  MentHlth  PhysHlth  DiffWalk  Sex   Age  Education  \\\n",
       "0          0.0      3.0       5.0      30.0       0.0  1.0   4.0        6.0   \n",
       "1          0.0      3.0       0.0       0.0       0.0  1.0  12.0        6.0   \n",
       "2          0.0      1.0       0.0      10.0       0.0  1.0  13.0        6.0   \n",
       "3          0.0      3.0       0.0       3.0       0.0  1.0  11.0        6.0   \n",
       "4          0.0      2.0       0.0       0.0       0.0  0.0   8.0        5.0   \n",
       "\n",
       "   Income  \n",
       "0     8.0  \n",
       "1     8.0  \n",
       "2     8.0  \n",
       "3     8.0  \n",
       "4     8.0  \n",
       "\n",
       "[5 rows x 22 columns]"
      ]
     },
     "execution_count": 2,
     "metadata": {},
     "output_type": "execute_result"
    }
   ],
   "source": [
    "df = pd.read_csv(\"diabetes_binary_5050split_health_indicators_BRFSS2015.csv\")\n",
    "X = df.drop(columns=[\"Diabetes_binary\"])\n",
    "y = df[\"Diabetes_binary\"]\n",
    "df.head()"
   ]
  },
  {
   "cell_type": "code",
   "execution_count": null,
   "id": "6fb50c4b",
   "metadata": {},
   "outputs": [],
   "source": [
    "# Univariate Analysis\n",
    "plt.figure()\n",
    "df['BMI'].hist(bins=20)\n",
    "plt.title(\"BMI Distribution\")\n",
    "plt.xlabel(\"BMI\")\n",
    "plt.ylabel(\"Frequency\")\n",
    "plt.show()\n",
    "\n",
    "# 13-level age category 1 = 18-24 9 = 60-64 13 = 80 or older\n",
    "plt.figure()\n",
    "df['Age'].hist(bins=20)\n",
    "plt.title(\"Age Distribution\")\n",
    "plt.xlabel(\"Age\")\n",
    "plt.ylabel(\"Frequency\")\n",
    "plt.show()\n"
   ]
  },
  {
   "cell_type": "code",
   "execution_count": null,
   "id": "c6219bf2",
   "metadata": {},
   "outputs": [],
   "source": [
    "# Identify categorical/binary features to visualize their distributions.\n",
    "\n",
    "categorical_features = [\n",
    "    'Diabetes_binary', 'HighBP', 'HighChol', 'CholCheck',\n",
    "    'Smoker', 'Stroke', 'HeartDiseaseorAttack', 'PhysActivity',\n",
    "    'Fruits', 'Veggies', 'HvyAlcoholConsump', 'AnyHealthcare',\n",
    "    'NoDocbcCost', 'Sex'\n",
    "]\n",
    "\n",
    "for col in categorical_features:\n",
    "    plt.figure()\n",
    "    df[col].value_counts().plot(kind='bar')\n",
    "    plt.title(f\"Distribution of {col}\")\n",
    "    plt.xlabel(col)\n",
    "    plt.ylabel(\"Count\")\n",
    "    plt.show()"
   ]
  },
  {
   "cell_type": "code",
   "execution_count": null,
   "id": "d87b8ce9",
   "metadata": {},
   "outputs": [],
   "source": [
    "# Mulitvariate analysis\n",
    "\n",
    "corr_matrix = df.corr()\n",
    "\n",
    "plt.figure(figsize=(10, 8))\n",
    "plt.matshow(corr_matrix, fignum=1)\n",
    "plt.title(\"Correlation Matrix\", pad=20)\n",
    "plt.colorbar()\n",
    "plt.xticks(range(len(corr_matrix.columns)), corr_matrix.columns, rotation=90)\n",
    "plt.yticks(range(len(corr_matrix.index)), corr_matrix.index)\n",
    "plt.show()"
   ]
  },
  {
   "cell_type": "code",
   "execution_count": null,
   "id": "6cd0f3a8",
   "metadata": {},
   "outputs": [],
   "source": [
    "# 2. Scatter Plot: BMI vs Age \n",
    "plt.figure()\n",
    "plt.scatter(df['BMI'], df['Age'], alpha=0.6)\n",
    "plt.title(\"Scatter Plot: BMI vs Age\")\n",
    "plt.xlabel(\"BMI\")\n",
    "plt.ylabel(\"Age\")\n",
    "plt.show()"
   ]
  },
  {
   "cell_type": "code",
   "execution_count": null,
   "id": "a408d73d",
   "metadata": {},
   "outputs": [],
   "source": [
    "diabetes_df=df[(df['Diabetes_binary']==1)]\n",
    "\n",
    "for col in categorical_features:\n",
    "    if(col!='Diabetes_binary'):\n",
    "        plt.figure()\n",
    "        diabetes_df[col].value_counts().plot(kind='bar')\n",
    "        plt.title(f\"Distribution of {col} with diabetes\")\n",
    "        plt.xlabel(col)\n",
    "        plt.ylabel(\"Count\")\n",
    "        plt.show()"
   ]
  },
  {
   "cell_type": "markdown",
   "id": "96e96fcc",
   "metadata": {},
   "source": [
    "Explore Data"
   ]
  },
  {
   "cell_type": "code",
   "execution_count": null,
   "id": "17188797",
   "metadata": {},
   "outputs": [],
   "source": [
    "print(\"Dataset shape:\", df.shape)\n",
    "print(\"\\nData types:\")\n",
    "print(df.dtypes)\n"
   ]
  },
  {
   "cell_type": "code",
   "execution_count": null,
   "id": "7fcc40fa",
   "metadata": {},
   "outputs": [],
   "source": [
    "print(\"\\nSummary statistics:\")\n",
    "print(df.describe())"
   ]
  },
  {
   "cell_type": "code",
   "execution_count": null,
   "id": "89bfff78",
   "metadata": {},
   "outputs": [],
   "source": [
    "# Count missing values in each column\n",
    "print(\"\\nMissing values per column:\")\n",
    "print(df.isnull().sum())"
   ]
  },
  {
   "cell_type": "code",
   "execution_count": null,
   "id": "d8a94c76",
   "metadata": {},
   "outputs": [],
   "source": [
    "# Check for duplicate records\n",
    "print(\"\\nNumber of duplicate rows:\", df.duplicated().sum())"
   ]
  },
  {
   "cell_type": "markdown",
   "id": "945d7156",
   "metadata": {},
   "source": [
    "Clean Data"
   ]
  },
  {
   "cell_type": "code",
   "execution_count": 3,
   "id": "43f0fe96",
   "metadata": {},
   "outputs": [
    {
     "name": "stdout",
     "output_type": "stream",
     "text": [
      "Dataset shape: (70692, 22)\n",
      "New shape: (69057, 22)\n"
     ]
    }
   ],
   "source": [
    "print(\"Dataset shape:\", df.shape)\n",
    "df = df.drop_duplicates()\n",
    "print(\"New shape:\", df.shape)"
   ]
  },
  {
   "cell_type": "markdown",
   "id": "2d431bfc",
   "metadata": {},
   "source": [
    "Split Data"
   ]
  },
  {
   "cell_type": "code",
   "execution_count": 3,
   "id": "0fe42b9d",
   "metadata": {},
   "outputs": [],
   "source": [
    "#Transform target\n",
    "le = LabelEncoder()\n",
    "y = le.fit_transform(y)\n",
    "\n",
    "#Split Data\n",
    "X_train, X_test, y_train, y_test = train_test_split(X, y, test_size=0.8)\n",
    "\n",
    "#Scale Data\n",
    "scaler = MinMaxScaler()\n",
    "X_train_scaled = scaler.fit_transform(X_train)\n",
    "X_test_scaled = scaler.transform(X_test)\n",
    "\n",
    "#Reassign col names\n",
    "X_train_scaled = pd.DataFrame(X_train_scaled, columns=X.columns)\n",
    "X_test_scaled = pd.DataFrame(X_test_scaled, columns=X.columns)\n"
   ]
  },
  {
   "cell_type": "markdown",
   "id": "1151c8d0",
   "metadata": {},
   "source": [
    "Train Models"
   ]
  },
  {
   "cell_type": "code",
   "execution_count": null,
   "id": "244c6f8b",
   "metadata": {},
   "outputs": [],
   "source": [
    "\n",
    "\n",
    "total_metrics = {}\n",
    "\n",
    "for name, model in models.items():\n",
    "    print(f\"\\n--- Training and Evaluating {name} ---\")\n",
    "    model.train(X_train_scaled, y_train)\n",
    "    \n",
    "    predictions = model.predict(X_test_scaled)\n",
    "    \n",
    "    metrics = helpers.evaluate.evaluate_model(y_test, predictions, name)\n",
    "    total_metrics[name] = metrics\n"
   ]
  },
  {
   "cell_type": "markdown",
   "id": "67b51f37",
   "metadata": {},
   "source": [
    "Report Stats"
   ]
  },
  {
   "cell_type": "code",
   "execution_count": null,
   "id": "cfdcae32",
   "metadata": {},
   "outputs": [],
   "source": [
    "# Get best metrics\n",
    "bestModel = \"\"\n",
    "bestPerformance = 0.0\n",
    "for name, metrics in total_metrics.items():\n",
    "    if metrics[\"Accuracy\"] > bestPerformance:\n",
    "        bestModel = name\n",
    "        bestPerformance = metrics[\"Accuracy\"]\n",
    "\n",
    "print(\"Best Model =\", bestModel)\n",
    "print(\"Model Accuracy =\", bestPerformance)\n"
   ]
  },
  {
   "cell_type": "markdown",
   "id": "d23fe1ca",
   "metadata": {},
   "source": [
    "Hyperparameter Tuning"
   ]
  },
  {
   "cell_type": "code",
   "execution_count": null,
   "id": "02c53546",
   "metadata": {},
   "outputs": [
    {
     "name": "stderr",
     "output_type": "stream",
     "text": [
      "[I 2025-04-23 05:22:06,236] A new study created in RDB with name: Decision Tree\n"
     ]
    },
    {
     "name": "stdout",
     "output_type": "stream",
     "text": [
      "\n",
      "--- Tuning Hyperparameters for Decision Tree ---\n"
     ]
    },
    {
     "name": "stderr",
     "output_type": "stream",
     "text": [
      "[I 2025-04-23 05:22:06,512] Trial 0 finished with value: 0.7198327253514678 and parameters: {'criterion': 'log_loss', 'splitter': 'best', 'max_depth': 39, 'min_samples_split': 16, 'min_samples_leaf': 17, 'max_features': None}. Best is trial 0 with value: 0.7198327253514678.\n",
      "[I 2025-04-23 05:22:06,797] Trial 1 finished with value: 0.6718774406623542 and parameters: {'criterion': 'gini', 'splitter': 'best', 'max_depth': 29, 'min_samples_split': 9, 'min_samples_leaf': 3, 'max_features': None}. Best is trial 0 with value: 0.7198327253514678.\n",
      "[I 2025-04-23 05:22:07,044] Trial 2 finished with value: 0.708161975174727 and parameters: {'criterion': 'entropy', 'splitter': 'best', 'max_depth': 18, 'min_samples_split': 10, 'min_samples_leaf': 12, 'max_features': None}. Best is trial 0 with value: 0.7198327253514678.\n",
      "[I 2025-04-23 05:22:07,177] Trial 3 finished with value: 0.7166492886086829 and parameters: {'criterion': 'gini', 'splitter': 'best', 'max_depth': 42, 'min_samples_split': 19, 'min_samples_leaf': 19, 'max_features': 'sqrt'}. Best is trial 0 with value: 0.7198327253514678.\n",
      "[I 2025-04-23 05:22:07,299] Trial 4 finished with value: 0.718418648424042 and parameters: {'criterion': 'log_loss', 'splitter': 'best', 'max_depth': 5, 'min_samples_split': 5, 'min_samples_leaf': 5, 'max_features': 'log2'}. Best is trial 0 with value: 0.7198327253514678.\n",
      "[I 2025-04-23 05:22:07,534] Trial 5 finished with value: 0.7198326753186715 and parameters: {'criterion': 'log_loss', 'splitter': 'best', 'max_depth': 42, 'min_samples_split': 7, 'min_samples_leaf': 17, 'max_features': None}. Best is trial 0 with value: 0.7198327253514678.\n",
      "[I 2025-04-23 05:22:07,652] Trial 6 finished with value: 0.7119805782690554 and parameters: {'criterion': 'gini', 'splitter': 'random', 'max_depth': 9, 'min_samples_split': 8, 'min_samples_leaf': 1, 'max_features': 'log2'}. Best is trial 0 with value: 0.7198327253514678.\n",
      "[I 2025-04-23 05:22:07,775] Trial 7 finished with value: 0.7102843914185748 and parameters: {'criterion': 'gini', 'splitter': 'random', 'max_depth': 26, 'min_samples_split': 13, 'min_samples_leaf': 12, 'max_features': 'sqrt'}. Best is trial 0 with value: 0.7198327253514678.\n",
      "[I 2025-04-23 05:22:08,011] Trial 8 finished with value: 0.7229452406052168 and parameters: {'criterion': 'entropy', 'splitter': 'best', 'max_depth': 25, 'min_samples_split': 5, 'min_samples_leaf': 19, 'max_features': None}. Best is trial 8 with value: 0.7229452406052168.\n",
      "[I 2025-04-23 05:22:08,201] Trial 9 finished with value: 0.7049079921888798 and parameters: {'criterion': 'entropy', 'splitter': 'random', 'max_depth': 14, 'min_samples_split': 18, 'min_samples_leaf': 2, 'max_features': None}. Best is trial 8 with value: 0.7229452406052168.\n",
      "[I 2025-04-23 05:22:08,363] A new study created in RDB with name: Logistic Regression\n"
     ]
    },
    {
     "name": "stdout",
     "output_type": "stream",
     "text": [
      "\n",
      "--- Tuning Hyperparameters for Logistic Regression ---\n"
     ]
    },
    {
     "name": "stderr",
     "output_type": "stream",
     "text": [
      "[I 2025-04-23 05:22:08,450] Trial 0 pruned. \n",
      "[I 2025-04-23 05:22:08,521] Trial 1 pruned. \n",
      "[I 2025-04-23 05:22:08,587] Trial 2 pruned. \n"
     ]
    },
    {
     "name": "stdout",
     "output_type": "stream",
     "text": [
      "Skipping due to error\n",
      "Skipping due to error\n",
      "Skipping due to error\n"
     ]
    },
    {
     "name": "stderr",
     "output_type": "stream",
     "text": [
      "[I 2025-04-23 05:22:08,658] Trial 3 pruned. \n",
      "[I 2025-04-23 05:22:08,727] Trial 4 pruned. \n"
     ]
    },
    {
     "name": "stdout",
     "output_type": "stream",
     "text": [
      "Skipping due to error\n",
      "Skipping due to error\n"
     ]
    },
    {
     "name": "stderr",
     "output_type": "stream",
     "text": [
      "[I 2025-04-23 05:22:09,285] Trial 5 finished with value: 0.7445885027635615 and parameters: {'penalty': None, 'dual': False, 'solver': 'sag', 'multi_class': 'ovr', 'max_iter': 47}. Best is trial 5 with value: 0.7445885027635615.\n",
      "[I 2025-04-23 05:22:09,364] Trial 6 pruned. \n",
      "[I 2025-04-23 05:22:09,426] Trial 7 pruned. \n",
      "[I 2025-04-23 05:22:09,491] Trial 8 pruned. \n",
      "[I 2025-04-23 05:22:09,559] Trial 9 pruned. \n"
     ]
    },
    {
     "name": "stdout",
     "output_type": "stream",
     "text": [
      "Skipping due to error\n",
      "Skipping due to error\n",
      "Skipping due to error\n",
      "Skipping due to error\n"
     ]
    },
    {
     "name": "stderr",
     "output_type": "stream",
     "text": [
      "[I 2025-04-23 05:22:09,649] A new study created in RDB with name: K Nearest Neighbors\n"
     ]
    },
    {
     "name": "stdout",
     "output_type": "stream",
     "text": [
      "\n",
      "--- Tuning Hyperparameters for K Nearest Neighbors ---\n"
     ]
    },
    {
     "name": "stderr",
     "output_type": "stream",
     "text": [
      "[I 2025-04-23 05:22:35,191] Trial 0 finished with value: 0.718842126013602 and parameters: {'n_neighbors': 22, 'weights': 'distance', 'algorithm': 'kd_tree', 'leaf_size': 23, 'p': 5}. Best is trial 0 with value: 0.718842126013602.\n",
      "[I 2025-04-23 05:22:36,554] Trial 1 finished with value: 0.7223791195128406 and parameters: {'n_neighbors': 16, 'weights': 'uniform', 'algorithm': 'brute', 'leaf_size': 11, 'p': 1}. Best is trial 1 with value: 0.7223791195128406.\n",
      "[I 2025-04-23 05:23:29,680] Trial 2 finished with value: 0.7206813316128723 and parameters: {'n_neighbors': 24, 'weights': 'distance', 'algorithm': 'ball_tree', 'leaf_size': 57, 'p': 4}. Best is trial 1 with value: 0.7223791195128406.\n",
      "[I 2025-04-23 05:23:32,514] Trial 3 finished with value: 0.7037771259060314 and parameters: {'n_neighbors': 8, 'weights': 'distance', 'algorithm': 'kd_tree', 'leaf_size': 51, 'p': 1}. Best is trial 1 with value: 0.7223791195128406.\n",
      "[I 2025-04-23 05:23:34,071] Trial 4 finished with value: 0.7275421538818695 and parameters: {'n_neighbors': 24, 'weights': 'uniform', 'algorithm': 'auto', 'leaf_size': 14, 'p': 1}. Best is trial 4 with value: 0.7275421538818695.\n",
      "[I 2025-04-23 05:23:54,057] Trial 5 finished with value: 0.7170739419689605 and parameters: {'n_neighbors': 15, 'weights': 'distance', 'algorithm': 'kd_tree', 'leaf_size': 21, 'p': 3}. Best is trial 4 with value: 0.7275421538818695.\n",
      "[I 2025-04-23 05:24:14,225] Trial 6 finished with value: 0.710071251705493 and parameters: {'n_neighbors': 11, 'weights': 'distance', 'algorithm': 'kd_tree', 'leaf_size': 29, 'p': 5}. Best is trial 4 with value: 0.7275421538818695.\n",
      "[I 2025-04-23 05:24:23,348] Trial 7 finished with value: 0.7020790127928859 and parameters: {'n_neighbors': 7, 'weights': 'distance', 'algorithm': 'brute', 'leaf_size': 62, 'p': 4}. Best is trial 4 with value: 0.7275421538818695.\n",
      "[I 2025-04-23 05:24:27,428] Trial 8 finished with value: 0.721176706331 and parameters: {'n_neighbors': 17, 'weights': 'distance', 'algorithm': 'ball_tree', 'leaf_size': 39, 'p': 2}. Best is trial 4 with value: 0.7275421538818695.\n",
      "[I 2025-04-23 05:25:16,070] Trial 9 finished with value: 0.7190544401855415 and parameters: {'n_neighbors': 21, 'weights': 'distance', 'algorithm': 'ball_tree', 'leaf_size': 30, 'p': 4}. Best is trial 4 with value: 0.7275421538818695.\n",
      "[I 2025-04-23 05:25:16,170] A new study created in RDB with name: SVC\n"
     ]
    },
    {
     "name": "stdout",
     "output_type": "stream",
     "text": [
      "\n",
      "--- Tuning Hyperparameters for SVC ---\n"
     ]
    },
    {
     "name": "stderr",
     "output_type": "stream",
     "text": [
      "[I 2025-04-23 05:25:36,116] Trial 0 finished with value: 0.740839795485941 and parameters: {'kernel': 'sigmoid', 'degree': 18, 'gamma': 'auto', 'probability': False}. Best is trial 0 with value: 0.740839795485941.\n",
      "[I 2025-04-23 05:26:02,586] Trial 1 finished with value: 0.7439523857888846 and parameters: {'kernel': 'rbf', 'degree': 15, 'gamma': 'auto', 'probability': False}. Best is trial 1 with value: 0.7439523857888846.\n",
      "[I 2025-04-23 05:26:19,621] Trial 2 finished with value: 0.746639772370789 and parameters: {'kernel': 'linear', 'degree': 8, 'gamma': 'auto', 'probability': False}. Best is trial 2 with value: 0.746639772370789.\n",
      "[I 2025-04-23 05:26:36,595] Trial 3 finished with value: 0.746639772370789 and parameters: {'kernel': 'linear', 'degree': 10, 'gamma': 'auto', 'probability': False}. Best is trial 2 with value: 0.746639772370789.\n",
      "[I 2025-04-23 05:26:53,545] Trial 4 finished with value: 0.746639772370789 and parameters: {'kernel': 'linear', 'degree': 10, 'gamma': 'auto', 'probability': False}. Best is trial 2 with value: 0.746639772370789.\n",
      "[I 2025-04-23 05:26:53,705] Trial 5 pruned. \n"
     ]
    },
    {
     "name": "stdout",
     "output_type": "stream",
     "text": [
      "Skipping due to error\n"
     ]
    },
    {
     "name": "stderr",
     "output_type": "stream",
     "text": [
      "[I 2025-04-23 05:28:51,473] Trial 6 finished with value: 0.7422542976921372 and parameters: {'kernel': 'rbf', 'degree': 17, 'gamma': 'scale', 'probability': True}. Best is trial 2 with value: 0.746639772370789.\n"
     ]
    }
   ],
   "source": [
    "#ignoring warnings when tuning hyperparams\n",
    "warnings.filterwarnings(\"ignore\", category=FitFailedWarning)\n",
    "warnings.filterwarnings(\"ignore\", category=UserWarning)\n",
    "warnings.filterwarnings(\"ignore\", category=FutureWarning)\n",
    "for name, model in models.items():\n",
    "    print(f\"\\n--- Tuning Hyperparameters for {name} ---\")\n",
    "    model.reset(name)\n",
    "    model.tune_params(X_train_scaled, y_train, 10, name)"
   ]
  }
 ],
 "metadata": {
  "kernelspec": {
   "display_name": "Python 3",
   "language": "python",
   "name": "python3"
  },
  "language_info": {
   "codemirror_mode": {
    "name": "ipython",
    "version": 3
   },
   "file_extension": ".py",
   "mimetype": "text/x-python",
   "name": "python",
   "nbconvert_exporter": "python",
   "pygments_lexer": "ipython3",
   "version": "3.9.5"
  }
 },
 "nbformat": 4,
 "nbformat_minor": 5
}
